{
 "cells": [
  {
   "cell_type": "code",
   "execution_count": 5,
   "metadata": {},
   "outputs": [],
   "source": [
    "def matrixChain(arr, i, j): \n",
    "    if i == j: \n",
    "        return 0\n",
    "  \n",
    "    _min = 99999999999 \n",
    "      \n",
    "    for k in range(i, j): \n",
    "        count = (matrixChain(arr, i, k) + matrixChain(arr, k+1, j) + arr[i-1] * arr[k] * arr[j]) \n",
    "  \n",
    "        if count < _min: \n",
    "            _min = count; \n",
    "    return _min"
   ]
  },
  {
   "cell_type": "code",
   "execution_count": null,
   "metadata": {},
   "outputs": [
    {
     "name": "stdout",
     "output_type": "stream",
     "text": [
      "Please input N:10\n"
     ]
    }
   ],
   "source": [
    "import time\n",
    "arr = [66, 68, 30, 86, 75, 88, 29, 51, 22, 36, 93, 70, 74, 90, 72, 50, 46, 88, 47, 90, 34, 59, 77, 70, 32, 55, 65, 32, 78, 62, 34, 48, 97, 15, 18, 49, 23, 51, 23, 99, 19, 34, 50, 25, 23, 56, 11, 28, 71, 83, 37, 52, 73, 69]\n",
    "n = len(arr); \n",
    "amount = int(input('Please input N:'))\n",
    "start = time.time()\n",
    "print(f'Minimum number of multiplications is {matrixChain(arr, 1, n-1)}');\n",
    "print(f'Time cost: {time.time()-start}')"
   ]
  },
  {
   "cell_type": "code",
   "execution_count": null,
   "metadata": {},
   "outputs": [],
   "source": []
  }
 ],
 "metadata": {
  "kernelspec": {
   "display_name": "Python 3",
   "language": "python",
   "name": "python3"
  },
  "language_info": {
   "codemirror_mode": {
    "name": "ipython",
    "version": 3
   },
   "file_extension": ".py",
   "mimetype": "text/x-python",
   "name": "python",
   "nbconvert_exporter": "python",
   "pygments_lexer": "ipython3",
   "version": "3.7.5"
  }
 },
 "nbformat": 4,
 "nbformat_minor": 2
}
